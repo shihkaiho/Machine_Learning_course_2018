{
 "cells": [
  {
   "cell_type": "markdown",
   "metadata": {
    "_cell_guid": "f5be4ac1-d0a2-442b-ac57-f7b0c764dae9",
    "_uuid": "876f0b63cba53419fbf7527034bf2c5f93885309"
   },
   "source": [
    "# <center>Freesound General-Purpose Audio Tagging Challenge</center>\n",
    "\n",
    "![Logo](https://upload.wikimedia.org/wikipedia/commons/3/3c/Freesound_project_website_logo.png)\n",
    "\n",
    "Freesound is a collaborative database of Creative Commons Licensed sounds. The aim of this competition is to classify audio files that cover real-world sounds from musical instruments, humans, animals, machines, etc. Few of the labels are: `Trumpet`, `Squeak`, `Meow`, `Applause` and `Finger_sapping`.  One of the challenges is that not all labels are manually verified. A creative solution should be able to partially rely on these *weak* annotations.\n",
    "\n",
    "Let's take a tour of the data visualization and model building through this kernel. If you like this work, please show your support by upvotes. Happy Kaggling!\n",
    "\n",
    "### Contents\n",
    "1. [Exploratory Data Analysis](#eda)\n",
    "    * [Loading data](#loading_data)\n",
    "    * [Distribution of Categories](#distribution)\n",
    "    * [Reading Audio Files](#audio_files)\n",
    "    * [Audio Length](#audio_length)\n",
    "2. [Building a Model using Raw Wave](#1d_model_building)\n",
    "    * [Model Discription](#1d_discription)\n",
    "    * [Configuration](#configuration)\n",
    "    * [DataGenerator class](#data_generator)\n",
    "    * [Normalization](#1d_normalization)\n",
    "    * [Training 1D Conv](#1d_training)\n",
    "    * [Ensembling 1D Conv Predictions](#1d_ensembling)\n",
    "3. [Introduction to MFCC](#intro_mfcc)\n",
    "    * [Generating MFCC using Librosa](#librosa_mfcc)\n",
    "4. [Building a Model using MFCC](#2d_model_building)\n",
    "    * [Preparing Data](#2d_data)\n",
    "    * [Normalization](#2d_normalization)\n",
    "    * [Training 2D Conv on MFCC](#2d_training)\n",
    "    * [Ensembling 2D Conv Predictions](#2d_ensembling)\n",
    "5. [Ensembling 1D Conv and 2D Conv Predictions](#1d_2d_ensembling)\n",
    "6. [Results and Conclusion](#conclusion)\n",
    "\n",
    "\n",
    "<a id=\"eda\"></a>\n",
    "## <center>1. Exploratory Data Analysis</center>"
   ]
  },
  {
   "cell_type": "code",
   "execution_count": 1,
   "metadata": {
    "_cell_guid": "39ab28e6-67b2-4129-9dbb-846c81ba85f2",
    "_uuid": "d00095bca1801c4058b75e706058a0651808596f"
   },
   "outputs": [],
   "source": [
    "# Change this to True to replicate the result\n",
    "COMPLETE_RUN = True"
   ]
  },
  {
   "cell_type": "markdown",
   "metadata": {
    "_cell_guid": "d4905db9-005f-42f0-aa6b-1408acef7371",
    "_uuid": "4c065a37dd33e869d93ccd8d78daed628e58112b"
   },
   "source": [
    "<a id=\"loading_data\"></a>\n",
    "### Loading data"
   ]
  },
  {
   "cell_type": "code",
   "execution_count": 2,
   "metadata": {
    "_cell_guid": "5abea3ac-4fa5-4c4f-893f-7f2afa49e523",
    "_kg_hide-output": true,
    "_uuid": "337e0950ca948be32d5d881c1a3c675ccf7ac523"
   },
   "outputs": [
    {
     "name": "stderr",
     "output_type": "stream",
     "text": [
      "/home/tsai/anaconda3/envs/tensorflow/lib/python3.5/site-packages/h5py/__init__.py:36: FutureWarning: Conversion of the second argument of issubdtype from `float` to `np.floating` is deprecated. In future, it will be treated as `np.float64 == np.dtype(float).type`.\n",
      "  from ._conv import register_converters as _register_converters\n"
     ]
    },
    {
     "name": "stdout",
     "output_type": "stream",
     "text": [
      "tf: 1.8.0\n",
      "2.1.6\n"
     ]
    },
    {
     "name": "stderr",
     "output_type": "stream",
     "text": [
      "Using TensorFlow backend.\n"
     ]
    }
   ],
   "source": [
    "import numpy as np\n",
    "np.random.seed(1001)\n",
    "\n",
    "import os\n",
    "import shutil\n",
    "\n",
    "#import IPython\n",
    "import matplotlib\n",
    "import matplotlib.pyplot as plt\n",
    "import pandas as pd\n",
    "import seaborn as sns\n",
    "#from tqdm import tqdm_notebook\n",
    "#from sklearn.cross_validation import StratifiedKFold\n",
    "from sklearn.model_selection import StratifiedKFold\n",
    "\n",
    "%matplotlib inline\n",
    "matplotlib.style.use('ggplot')\n",
    "\n",
    "import tensorflow as tf\n",
    "print('tf:',tf.__version__)\n",
    "config = tf.ConfigProto()\n",
    "config.gpu_options.allow_growth = True\n",
    "sess = tf.Session(config = config)\n",
    "os.getpid()\n",
    "\n",
    "import keras\n",
    "print(keras.__version__)"
   ]
  },
  {
   "cell_type": "code",
   "execution_count": 3,
   "metadata": {
    "_cell_guid": "97700e3e-82e1-4ce2-9da4-3f8f264e7558",
    "_kg_hide-output": true,
    "_uuid": "2ca1929548de57afb1c4fde19c10f7b18c64264e"
   },
   "outputs": [],
   "source": [
    "train = pd.read_csv(\"../input/train.csv\")\n",
    "#train = pd.read_csv(\"../input/freesound-audio-tagging/semi_train.csv\")\n",
    "test = pd.read_csv(\"../input/sample_submission.csv\")"
   ]
  },
  {
   "cell_type": "code",
   "execution_count": 4,
   "metadata": {
    "_cell_guid": "a418ce4d-b104-4710-b50d-e9ab1e7e420f",
    "_kg_hide-output": true,
    "_uuid": "1acc16aa65e8f39a5abd8b60906740a671659f1b"
   },
   "outputs": [
    {
     "data": {
      "text/html": [
       "<div>\n",
       "<style scoped>\n",
       "    .dataframe tbody tr th:only-of-type {\n",
       "        vertical-align: middle;\n",
       "    }\n",
       "\n",
       "    .dataframe tbody tr th {\n",
       "        vertical-align: top;\n",
       "    }\n",
       "\n",
       "    .dataframe thead th {\n",
       "        text-align: right;\n",
       "    }\n",
       "</style>\n",
       "<table border=\"1\" class=\"dataframe\">\n",
       "  <thead>\n",
       "    <tr style=\"text-align: right;\">\n",
       "      <th></th>\n",
       "      <th>fname</th>\n",
       "      <th>label</th>\n",
       "      <th>manually_verified</th>\n",
       "    </tr>\n",
       "  </thead>\n",
       "  <tbody>\n",
       "    <tr>\n",
       "      <th>0</th>\n",
       "      <td>00044347.wav</td>\n",
       "      <td>Hi-hat</td>\n",
       "      <td>0</td>\n",
       "    </tr>\n",
       "    <tr>\n",
       "      <th>1</th>\n",
       "      <td>001ca53d.wav</td>\n",
       "      <td>Saxophone</td>\n",
       "      <td>1</td>\n",
       "    </tr>\n",
       "    <tr>\n",
       "      <th>2</th>\n",
       "      <td>002d256b.wav</td>\n",
       "      <td>Trumpet</td>\n",
       "      <td>0</td>\n",
       "    </tr>\n",
       "    <tr>\n",
       "      <th>3</th>\n",
       "      <td>0033e230.wav</td>\n",
       "      <td>Glockenspiel</td>\n",
       "      <td>1</td>\n",
       "    </tr>\n",
       "    <tr>\n",
       "      <th>4</th>\n",
       "      <td>00353774.wav</td>\n",
       "      <td>Cello</td>\n",
       "      <td>1</td>\n",
       "    </tr>\n",
       "  </tbody>\n",
       "</table>\n",
       "</div>"
      ],
      "text/plain": [
       "          fname         label  manually_verified\n",
       "0  00044347.wav        Hi-hat                  0\n",
       "1  001ca53d.wav     Saxophone                  1\n",
       "2  002d256b.wav       Trumpet                  0\n",
       "3  0033e230.wav  Glockenspiel                  1\n",
       "4  00353774.wav         Cello                  1"
      ]
     },
     "execution_count": 4,
     "metadata": {},
     "output_type": "execute_result"
    }
   ],
   "source": [
    "train.head()"
   ]
  },
  {
   "cell_type": "code",
   "execution_count": 5,
   "metadata": {
    "_cell_guid": "afceb447-9a8f-4cc4-a7b2-eabc75c3f0aa",
    "_kg_hide-output": true,
    "_uuid": "dad27c6a5ef1fdad658ce710fe16fca58c75a05c",
    "scrolled": true
   },
   "outputs": [
    {
     "name": "stdout",
     "output_type": "stream",
     "text": [
      "Number of training examples= 9473   Number of classes= 41\n"
     ]
    }
   ],
   "source": [
    "print(\"Number of training examples=\", train.shape[0], \"  Number of classes=\", len(train.label.unique()))"
   ]
  },
  {
   "cell_type": "code",
   "execution_count": 6,
   "metadata": {
    "_cell_guid": "99b8ebbd-aa18-427a-ab33-e88553a564f6",
    "_kg_hide-output": true,
    "_uuid": "0c3e7629b5e60cfad2a7e1681dcf6e7c55c92e43"
   },
   "outputs": [
    {
     "name": "stdout",
     "output_type": "stream",
     "text": [
      "['Hi-hat' 'Saxophone' 'Trumpet' 'Glockenspiel' 'Cello' 'Knock'\n",
      " 'Gunshot_or_gunfire' 'Clarinet' 'Computer_keyboard' 'Keys_jangling'\n",
      " 'Snare_drum' 'Writing' 'Laughter' 'Tearing' 'Fart' 'Oboe' 'Flute' 'Cough'\n",
      " 'Telephone' 'Bark' 'Chime' 'Bass_drum' 'Bus' 'Squeak' 'Scissors'\n",
      " 'Harmonica' 'Gong' 'Microwave_oven' 'Burping_or_eructation' 'Double_bass'\n",
      " 'Shatter' 'Fireworks' 'Tambourine' 'Cowbell' 'Electric_piano' 'Meow'\n",
      " 'Drawer_open_or_close' 'Applause' 'Acoustic_guitar' 'Violin_or_fiddle'\n",
      " 'Finger_snapping']\n"
     ]
    }
   ],
   "source": [
    "print(train.label.unique())"
   ]
  },
  {
   "cell_type": "markdown",
   "metadata": {
    "_cell_guid": "008c5a97-9c50-4a52-9b65-568986f9bbd6",
    "_uuid": "2edb326e66f4c699bd3cc5ec43279d40e7777180"
   },
   "source": [
    "<a id=\"distribution\"></a>\n",
    "### Distribution of Categories"
   ]
  },
  {
   "cell_type": "code",
   "execution_count": 7,
   "metadata": {
    "_cell_guid": "67e5b2e9-cee7-4bf0-84d4-b79bfa6928fd",
    "_uuid": "fef9ca7602b65d3637884eddd38fa5f01a530e81"
   },
   "outputs": [
    {
     "data": {
      "image/png": "[encoded data removed]",
      "text/plain": [
       "<matplotlib.figure.Figure at 0x7fd6ec55ee48>"
      ]
     },
     "metadata": {},
     "output_type": "display_data"
    }
   ],
   "source": [
    "category_group = train.groupby(['label', 'manually_verified']).count()\n",
    "plot = category_group.unstack().reindex(category_group.unstack().sum(axis=1).sort_values().index)\\\n",
    "          .plot(kind='bar', stacked=True, title=\"Number of Audio Samples per Category\", figsize=(16,10))\n",
    "plot.set_xlabel(\"Category\")\n",
    "plot.set_ylabel(\"Number of Samples\");"
   ]
  },
  {
   "cell_type": "code",
   "execution_count": 8,
   "metadata": {
    "_cell_guid": "29538dc2-387a-4910-a203-f105c97ce0e6",
    "_kg_hide-output": true,
    "_uuid": "c2ca61efa1696baa87f831f7df927fd1cba7abbf"
   },
   "outputs": [
    {
     "name": "stdout",
     "output_type": "stream",
     "text": [
      "Minimum samples per category =  94\n",
      "Maximum samples per category =  300\n"
     ]
    }
   ],
   "source": [
    "print('Minimum samples per category = ', min(train.label.value_counts()))\n",
    "print('Maximum samples per category = ', max(train.label.value_counts()))"
   ]
  },
  {
   "cell_type": "markdown",
   "metadata": {
    "_cell_guid": "a715d812-98fc-459a-8695-13940b2ca1de",
    "_uuid": "d0ed18e06d39f962d1a2a58f4743171c9c4970e9"
   },
   "source": [
    "We observe that:\n",
    "1. The number of audio samples per category is **non-nform**. The minimum number of audio samples in a category is `94` while the maximum is `300`\n",
    "2. Also, the proportion of `maually_verified` labels per category is non-uniform.\n",
    "<a id=\"audio_files\"></a>\n",
    "### Reading Audio Files\n",
    "\n",
    "The audios are [Pulse-code modulated](https://en.wikipedia.org/wiki/Audio_bit_depth) with a [bit depth](https://en.wikipedia.org/wiki/Audio_bit_depth) of 16 and a [sampling rate](https://en.wikipedia.org/wiki/Sampling_%28signal_processing%29) of 44.1 kHz\n",
    "\n",
    "![16-bit PCM](https://upload.wikimedia.org/wikipedia/commons/thumb/b/bf/Pcm.svg/500px-Pcm.svg.png)\n",
    "\n",
    "* **Bit-depth = 16**: The amplitude of each sample in the audio is one of 2^16 (=65536) possible values. \n",
    "* **Samplig rate = 44.1 kHz**: Each second in the audio consists of 44100 samples. So, if the duration of the audio file is 3.2 seconds, the audio will consist of 44100\\*3.2 = 141120 values.\n",
    "\n",
    "Let's listen to an audio file in our dataset and load it to a numpy array"
   ]
  },
  {
   "cell_type": "markdown",
   "metadata": {
    "_cell_guid": "20d2c517-01f9-46a9-b339-6ce415bc59d2",
    "_uuid": "e15d81dcb2a4433b94182eb588ccb183e27fa700",
    "collapsed": true
   },
   "source": [
    "import IPython.display as ipd  # To play sound in the notebook\n",
    "fname = '../input/freesound-audio-tagging/audio_train/' + '00044347.wav'   # Hi-hat\n",
    "ipd.Audio(fname)"
   ]
  },
  {
   "cell_type": "markdown",
   "metadata": {
    "_cell_guid": "efe10cb8-13f1-405e-8b71-ca5758ee18d4",
    "_uuid": "101f9997c5c8cd0392c1f367684331d3f6e80422",
    "collapsed": true
   },
   "source": [
    "# Using wave library\n",
    "import wave\n",
    "wav = wave.open(fname)\n",
    "print(\"Sampling (frame) rate = \", wav.getframerate())\n",
    "print(\"Total samples (frames) = \", wav.getnframes())\n",
    "print(\"Duration = \", wav.getnframes()/wav.getframerate())"
   ]
  },
  {
   "cell_type": "markdown",
   "metadata": {
    "_cell_guid": "3c9f1564-fa50-4f4b-87d9-2070fc44770d",
    "_uuid": "e4ea69354f032c0b511b50693c750e19fb4f6cb3",
    "collapsed": true
   },
   "source": [
    "# Using scipy\n",
    "from scipy.io import wavfile\n",
    "rate, data = wavfile.read(fname)\n",
    "print(\"Sampling (frame) rate = \", rate)\n",
    "print(\"Total samples (frames) = \", data.shape)\n",
    "print(data)"
   ]
  },
  {
   "cell_type": "markdown",
   "metadata": {
    "_cell_guid": "3c6c2a6f-4914-4e13-84be-6b8492487c7b",
    "_uuid": "bacb576c223074c03d0cb5c55b917df2e1261498"
   },
   "source": [
    "Let's plot the audio frames"
   ]
  },
  {
   "cell_type": "markdown",
   "metadata": {
    "_cell_guid": "eeb3e8ab-106f-4e67-84fd-7bf8c9847c8e",
    "_uuid": "a1e25d48f74b38784d7588e5c33af9b03248e7d3",
    "collapsed": true,
    "scrolled": false
   },
   "source": [
    "plt.plot(data, '-', );"
   ]
  },
  {
   "cell_type": "markdown",
   "metadata": {
    "_cell_guid": "79293dfd-e254-47f3-8909-ff32f08f87aa",
    "_uuid": "762301b9c5d7653d761205e172ff3da88745400f"
   },
   "source": [
    "Let's zoom in on first 1000 frames"
   ]
  },
  {
   "cell_type": "markdown",
   "metadata": {
    "_cell_guid": "bfb06a3e-b501-4570-89ea-008781414144",
    "_uuid": "7c1b21e52e83d0bc723a48a32ced87445a540fa9",
    "collapsed": true
   },
   "source": [
    "plt.figure(figsize=(16, 4))\n",
    "plt.plot(data[:500], '.'); plt.plot(data[:500], '-');"
   ]
  },
  {
   "cell_type": "markdown",
   "metadata": {
    "_cell_guid": "42761f3d-0d20-4a97-843a-02186299f76b",
    "_uuid": "b3a730fc5ee4a9ab5904cddda84a05ac118c749d"
   },
   "source": [
    "<a id=\"audio_length\"></a>\n",
    "### Audio Length\n",
    "\n",
    "We shall now analyze the lengths of the audio files in our dataset"
   ]
  },
  {
   "cell_type": "markdown",
   "metadata": {
    "_cell_guid": "40b7ba05-45df-4779-be29-b177b9b9b8e1",
    "_uuid": "867f0074922314b78de6bd9d14b308b634d1fbbe",
    "collapsed": true,
    "scrolled": false
   },
   "source": [
    "train['nframes'] = train['fname'].apply(lambda f: wave.open('../input/freesound-audio-tagging/audio_train/' + f).getnframes())\n",
    "test['nframes'] = test['fname'].apply(lambda f: wave.open('../input/freesound-audio-tagging/audio_test/' + f).getnframes())\n",
    "\n",
    "_, ax = plt.subplots(figsize=(16, 4))\n",
    "sns.violinplot(ax=ax, x=\"label\", y=\"nframes\", data=train)\n",
    "plt.xticks(rotation=90)\n",
    "plt.title('Distribution of audio frames, per label', fontsize=16)\n",
    "plt.show()"
   ]
  },
  {
   "cell_type": "markdown",
   "metadata": {
    "_cell_guid": "fa8fa2bd-359c-4f53-b94b-67a6c1acde64",
    "_uuid": "92ea60bb1827c9ec4dd261d015739dde762f9b18"
   },
   "source": [
    "We observe:\n",
    "1. The distribution of audio length across labels is non-uniform and has high variance.\n",
    "\n",
    "Let's now analyze the frame length distribution in Train and Test."
   ]
  },
  {
   "cell_type": "markdown",
   "metadata": {
    "_cell_guid": "e49045f1-7c44-4f1a-b740-d45ec3b6b321",
    "_uuid": "0ec5676601b04e3fdbae4052122c9db1a68251a9",
    "collapsed": true
   },
   "source": [
    "fig, axes = plt.subplots(nrows=1, ncols=2, figsize=(16,5))\n",
    "train.nframes.hist(bins=100, ax=axes[0])\n",
    "test.nframes.hist(bins=100, ax=axes[1])\n",
    "plt.suptitle('Frame Length Distribution in Train and Test', ha='center', fontsize='large');"
   ]
  },
  {
   "cell_type": "markdown",
   "metadata": {
    "_cell_guid": "72c8dc2d-8385-4f74-8820-8d805fee8dc0",
    "_uuid": "3e517330a7209f25fa69056db1214f27fb585824"
   },
   "source": [
    "We observe:\n",
    "1. Majority of the audio files are short.\n",
    "1. There are four `abnormal` length in the test histogram. Let's analyze them."
   ]
  },
  {
   "cell_type": "markdown",
   "metadata": {
    "_cell_guid": "f36e006f-fb47-4134-94a8-aede32f770ad",
    "_uuid": "8495f1f7fdaffa09623458aa66803c6a2e156537",
    "collapsed": true,
    "scrolled": true
   },
   "source": [
    "abnormal_length = [707364, 353682, 138474, 184338]\n",
    "\n",
    "for length in abnormal_length:\n",
    "    abnormal_fnames = test.loc[test.nframes == length, 'fname'].values\n",
    "    print(\"Frame length = \", length, \" Number of files = \", abnormal_fnames.shape[0], end=\"   \")\n",
    "    fname = np.random.choice(abnormal_fnames)\n",
    "    print(\"Playing \", fname)\n",
    "    #IPython.display.display(ipd.Audio( '../input/freesound-audio-tagging/audio_test/' + fname))"
   ]
  },
  {
   "cell_type": "markdown",
   "metadata": {
    "_cell_guid": "146baca0-66cc-4ce1-8d16-16ae5764a354",
    "_uuid": "64462b38a986a2f40deeb6a053b9d99d8f6993b5"
   },
   "source": [
    "<a id=\"1d_model_building\"></a>\n",
    "## <center>2. Building a Model using Raw Wave</center>\n",
    "We will build two models:\n",
    "1. The first model will take the raw audio (1D array) as input and the primary operation will be Conv1D\n",
    "2. The second model will take the MFCCs as input. (We will explain MFCC later)\n",
    "\n",
    "<a id=\"1d_discription\"></a>\n",
    "### Keras Model using raw wave\n",
    "\n",
    "Our model has the architecture as follows:\n",
    "![raw](https://raw.githubusercontent.com/zaffnet/images/master/images/raw_model.jpg)\n",
    "\n",
    "**Important:**\n",
    "Due to the time limit on Kaggle Kernels, it is not possible to perform 10-fold training of a large model. I have trained the model locally and uploaded its output files as a dataset. If you wish to train the bigger model, change `COMPLETE_RUN = True` at the beginning of the kernel."
   ]
  },
  {
   "cell_type": "markdown",
   "metadata": {
    "_cell_guid": "0ef1062c-be8a-4021-a50a-3df9bacd30fc",
    "_uuid": "2df0e6e509896eaefd30f6b4c15b55736760aafa",
    "collapsed": true
   },
   "source": [
    "#### Some sssential imports"
   ]
  },
  {
   "cell_type": "code",
   "execution_count": 9,
   "metadata": {
    "_cell_guid": "58fbb75c-1ef8-478f-a5fd-3fe6cfda32af",
    "_kg_hide-output": true,
    "_uuid": "36454f818dcbe02852e7a639d428a004a387ce9f"
   },
   "outputs": [],
   "source": [
    "import librosa\n",
    "import numpy as np\n",
    "import scipy\n",
    "from keras import losses, models, optimizers\n",
    "from keras.activations import relu, softmax\n",
    "from keras.callbacks import (EarlyStopping, LearningRateScheduler,\n",
    "                             ModelCheckpoint, TensorBoard, ReduceLROnPlateau)\n",
    "from keras.layers import (Convolution1D, Dense, Dropout, GlobalAveragePooling1D, \n",
    "                          GlobalMaxPool1D, Input, MaxPool1D, concatenate)\n",
    "from keras.utils import Sequence, to_categorical"
   ]
  },
  {
   "cell_type": "markdown",
   "metadata": {
    "_cell_guid": "64df4fea-4917-4762-b9be-68163f590c13",
    "_uuid": "927b4d615e24291f3c9510b653e723dc031fd042"
   },
   "source": [
    "<a id=\"configuration\"></a>\n",
    "#### Configuration"
   ]
  },
  {
   "cell_type": "markdown",
   "metadata": {
    "_cell_guid": "1dda9e10-5b51-430a-b20d-a319695df25d",
    "_uuid": "a9dc3968c8915e1d96f0bc011e67db26932ab0a3"
   },
   "source": [
    "The Configuration object stores those learning parameters that are shared between data generators, models, and training functions. Anything that is `global` as far as the training is concerned can become the part of Configuration object."
   ]
  },
  {
   "cell_type": "code",
   "execution_count": 10,
   "metadata": {
    "_cell_guid": "e0836104-1a4d-485d-9cc1-3e5b82f449de",
    "_uuid": "66640745984135b853d36eac127fb2da302319ad"
   },
   "outputs": [
    {
     "data": {
      "text/plain": [
       "'\\nclass Config(object):\\n    def __init__(self,\\n                 sampling_rate=16000, audio_duration=2, n_classes=41,\\n                 use_mfcc=False, n_folds=10, learning_rate=0.0001, \\n                 max_epochs=50, n_mfcc=20, datagen_num = 2):\\n        self.sampling_rate = sampling_rate\\n        self.audio_duration = audio_duration\\n        self.n_classes = n_classes\\n        self.use_mfcc = use_mfcc\\n        self.n_mfcc = n_mfcc\\n        self.n_folds = n_folds\\n        self.learning_rate = learning_rate\\n        self.max_epochs = max_epochs\\n        self.datagen_num = datagen_num\\n\\n        self.audio_length = self.sampling_rate * self.audio_duration\\n        if self.use_mfcc:\\n            self.dim = (self.n_mfcc, 1 + int(np.floor(self.audio_length/512)), 1)\\n        else:\\n            self.dim = (self.audio_length, 1)\\n'"
      ]
     },
     "execution_count": 10,
     "metadata": {},
     "output_type": "execute_result"
    }
   ],
   "source": [
    "\n",
    "class Config(object):\n",
    "    def __init__(self,\n",
    "                 sampling_rate=16000, audio_duration=2, n_classes=41,\n",
    "                 use_mfcc=False, n_folds=10, learning_rate=0.0001, \n",
    "                 max_epochs=50, n_mfcc=20):\n",
    "        self.sampling_rate = sampling_rate\n",
    "        self.audio_duration = audio_duration\n",
    "        self.n_classes = n_classes\n",
    "        self.use_mfcc = use_mfcc\n",
    "        self.n_mfcc = n_mfcc\n",
    "        self.n_folds = n_folds\n",
    "        self.learning_rate = learning_rate\n",
    "        self.max_epochs = max_epochs\n",
    "\n",
    "        self.audio_length = self.sampling_rate * self.audio_duration\n",
    "        if self.use_mfcc:\n",
    "            self.dim = (self.n_mfcc, 1 + int(np.floor(self.audio_length/512)), 1)\n",
    "        else:\n",
    "            self.dim = (self.audio_length, 1)\n"
   ]
  },
  {
   "cell_type": "markdown",
   "metadata": {
    "_cell_guid": "dbdcf3fb-f915-482c-ad8f-d8578de8f080",
    "_uuid": "b1a794352ac7505abcf212d1b1c6deef32178ab3",
    "collapsed": true
   },
   "source": [
    "<a id=\"data_generator\"></a>\n",
    "#### DataGenerator Class"
   ]
  },
  {
   "cell_type": "markdown",
   "metadata": {
    "_cell_guid": "059d4658-f1a4-4d6a-ae67-05140fc9bac6",
    "_uuid": "f1a0716a545ade83970005951719e71cebe35ab2"
   },
   "source": [
    "The DataGenerator class inherits from **`keras.utils.Sequence`** . It is useful for preprocessing and feeding the data to a Keras model. \n",
    "* Once initialized with a batch_size, it computes the number of batches in an epoch. The **`__len__`** method tells Keras how many batches to draw in each epoch. \n",
    "* The **`__getitem__`** method takes an index (which is the batch number) and returns a batch of the data (both X and y) after calculating the offset. During test time, only `X` is returned.\n",
    "* If we want to perform some action after each epoch (like shuffle the data, or increase the proportion of augmented data), we can use the **`on_epoch_end`** method.\n",
    "\n",
    "Note:\n",
    "**`Sequence`** are a safer way to do multiprocessing. This structure guarantees that the network will only train once on each sample per epoch which is not the case with generators."
   ]
  },
  {
   "cell_type": "code",
   "execution_count": 11,
   "metadata": {
    "_cell_guid": "f9d14e7d-89d8-42f0-9eb3-f895645b2de2",
    "_uuid": "aca30bc0f6fccf71e4b9a68e5c04c1aaf950b169"
   },
   "outputs": [],
   "source": [
    "class DataGenerator(Sequence):\n",
    "    def __init__(self, config, data_dir, list_IDs, labels=None, \n",
    "                 batch_size=64, preprocessing_fn=lambda x: x):\n",
    "        self.config = config\n",
    "        self.data_dir = data_dir\n",
    "        self.list_IDs = list_IDs\n",
    "        self.labels = labels\n",
    "        self.batch_size = batch_size\n",
    "        self.preprocessing_fn = preprocessing_fn\n",
    "        self.on_epoch_end()\n",
    "        self.dim = self.config.dim\n",
    "\n",
    "    def __len__(self):\n",
    "        return int(np.ceil(len(self.list_IDs) / self.batch_size))\n",
    "\n",
    "    def __getitem__(self, index):\n",
    "        indexes = self.indexes[index*self.batch_size:(index+1)*self.batch_size]\n",
    "        list_IDs_temp = [self.list_IDs[k] for k in indexes]\n",
    "        return self.__data_generation(list_IDs_temp)\n",
    "\n",
    "    def on_epoch_end(self):\n",
    "        self.indexes = np.arange(len(self.list_IDs))\n",
    "\n",
    "    def __data_generation(self, list_IDs_temp):\n",
    "        cur_batch_size = len(list_IDs_temp)\n",
    "        X = np.empty((cur_batch_size, *self.dim))\n",
    "\n",
    "        input_length = self.config.audio_length\n",
    "        for i, ID in enumerate(list_IDs_temp):\n",
    "            file_path = self.data_dir + ID\n",
    "            \n",
    "            # Read and Resample the audio\n",
    "            data, _ = librosa.core.load(file_path, sr=self.config.sampling_rate,\n",
    "                                        res_type='kaiser_fast')\n",
    "\n",
    "            # Random offset / Padding\n",
    "            if len(data) > input_length:\n",
    "                max_offset = len(data) - input_length\n",
    "                offset = np.random.randint(max_offset)\n",
    "                data = data[offset:(input_length+offset)]\n",
    "            else:\n",
    "                if input_length > len(data):\n",
    "                    max_offset = input_length - len(data)\n",
    "                    offset = np.random.randint(max_offset)\n",
    "                else:\n",
    "                    offset = 0\n",
    "                data = np.pad(data, (offset, input_length - len(data) - offset), \"constant\")\n",
    "                \n",
    "            # Normalization + Other Preprocessing\n",
    "            if self.config.use_mfcc:\n",
    "                data = librosa.feature.mfcc(data, sr=self.config.sampling_rate,\n",
    "                                                   n_mfcc=self.config.n_mfcc)\n",
    "                data = np.expand_dims(data, axis=-1)\n",
    "            else:\n",
    "                data = self.preprocessing_fn(data)[:, np.newaxis]\n",
    "            X[i,] = data\n",
    "\n",
    "        if self.labels is not None:\n",
    "            y = np.empty(cur_batch_size, dtype=int)\n",
    "            for i, ID in enumerate(list_IDs_temp):\n",
    "                y[i] = self.labels[ID]\n",
    "            print('X Shape:'+np.shape(X))\n",
    "            return X, to_categorical(y, num_classes=self.config.n_classes)\n",
    "        else:\n",
    "            return X"
   ]
  },
  {
   "cell_type": "markdown",
   "metadata": {
    "_cell_guid": "49a23330-291d-4eb7-aeb9-4abcfd648277",
    "_uuid": "6b69d10980c7aad004c6a7fa860c649d0b875a0f"
   },
   "source": [
    "<a id=\"1d_normalization\"></a>\n",
    "#### Normalization\n",
    "\n",
    "Normalization is a crucial preprocessing step. The simplest method is rescaling the range of features to scale the range in [0, 1]. "
   ]
  },
  {
   "cell_type": "code",
   "execution_count": 12,
   "metadata": {
    "_cell_guid": "bb5936dd-5fb1-4894-8165-6daf372a6832",
    "_uuid": "c9db10ad526815730a6e5a1f057de8c9bff12615"
   },
   "outputs": [],
   "source": [
    "def audio_norm(data):\n",
    "    max_data = np.max(data)\n",
    "    min_data = np.min(data)\n",
    "    data = (data-min_data)/(max_data-min_data+1e-6)\n",
    "    return data-0.5"
   ]
  },
  {
   "cell_type": "markdown",
   "metadata": {
    "_cell_guid": "3b9656b0-31d3-47ea-9bb3-789a40026793",
    "_uuid": "c2f0bbd810926b309d3b02473e937a2a86bc9005"
   },
   "source": [
    "* The dummy model is just for debugging purpose.\n",
    "* Our 1D Conv model is fairly deep and is trained using Adam Optimizer with a learning rate of 0.0001"
   ]
  },
  {
   "cell_type": "markdown",
   "metadata": {
    "_cell_guid": "2e67aa4a-f2d0-4889-a1da-b6d3217edb5e",
    "_uuid": "32afe89ebdee366de311a6fffb5c49a0e568aaa8"
   },
   "source": [
    "<a id=\"1d_training\"></a>\n",
    "#### Training 1D Conv"
   ]
  },
  {
   "cell_type": "markdown",
   "metadata": {
    "_cell_guid": "a93de421-33be-4104-bcfa-b581cbde3d75",
    "_uuid": "ddbcf58975c5cd7436314a77e5b8f938640bcf34"
   },
   "source": [
    "It is important to convert raw labels to integer indices"
   ]
  },
  {
   "cell_type": "code",
   "execution_count": 13,
   "metadata": {
    "_cell_guid": "e9027035-0e77-47dd-8616-113c1cfb37e0",
    "_uuid": "53aca10261dea0b8357e39adb513c7689b7c07ff"
   },
   "outputs": [],
   "source": [
    "LABELS = list(train.label.unique())\n",
    "label_idx = {label: i for i, label in enumerate(LABELS)}\n",
    "train.set_index(\"fname\", inplace=True)\n",
    "test.set_index(\"fname\", inplace=True)\n",
    "train[\"label_idx\"] = train.label.apply(lambda x: label_idx[x])\n",
    "if not COMPLETE_RUN:\n",
    "    train = train[:2000]\n",
    "    test = test[:2000]"
   ]
  },
  {
   "cell_type": "markdown",
   "metadata": {
    "_cell_guid": "488df4a9-b090-4397-a649-2e94f9ee82ad",
    "_uuid": "2afcdcf0f77f8685f57e2d119ec0cc650b7255d7"
   },
   "source": [
    "<a id=\"1d_ensembling\"></a>\n",
    "#### Ensembling 1D Conv Predictions\n",
    "Now that we have trained our model, it is time average the predictions of 10-folds. We will try Geometric Mean averaging and see what will be our Public LB score."
   ]
  },
  {
   "cell_type": "markdown",
   "metadata": {
    "_cell_guid": "4050aede-678b-4f9e-bb95-e70f79e4f6bd",
    "_kg_hide-output": true,
    "_uuid": "bfdddecb92be07d06e71d25b1812d064a0cee66d"
   },
   "source": [
    "pred_list = []\n",
    "for i in range(10):\n",
    "    pred_list.append(np.load(PREDICTION_FOLDER+\"/test_predictions_%d.npy\"%i))\n",
    "prediction = np.ones_like(pred_list[0])\n",
    "for pred in pred_list:\n",
    "    prediction = prediction*pred\n",
    "prediction = prediction**(1./len(pred_list))\n",
    "# Make a submission file\n",
    "top_3 = np.array(LABELS)[np.argsort(-prediction, axis=1)[:, :3]]\n",
    "predicted_labels = [' '.join(list(x)) for x in top_3]\n",
    "test = pd.read_csv('../input/freesound-audio-tagging/sample_submission.csv')\n",
    "test['label'] = predicted_labels\n",
    "test[['fname', 'label']].to_csv(\"1d_conv_ensembled_submission.csv\", index=False)"
   ]
  },
  {
   "cell_type": "markdown",
   "metadata": {
    "_cell_guid": "8c437de1-ecc0-4c72-9595-c689c101a72c",
    "_uuid": "40ef0374888d1453eed07c8daa18f231c12ef36d"
   },
   "source": [
    "<a id=\"intro_mfcc\"></a>\n",
    "## <center> 3. Introuction to MFCC\n",
    "\n",
    "As we have seen in the previous section, our Deep Learning models are powerful enough to classify sounds from the raw audio. We do not require any complex feature engineering. But before the Deep Learning era, people developed techniques to extract features from audio signals. It turns out that these techniques are still useful. One such technique is computing the MFCC (Mel Frquency Cepstral Coefficients) from the raw audio. Before we jump to MFCC, let's talk about extracting features from the sound.\n",
    "\n",
    "If we just want to classify some sound, we should build features that are **speaker independent**. Any feature that only gives information about the speaker (like the pitch of their voice) will not be helpful for classification. In other words, we should extract features that depend on the \"content\" of the audio rather than the nature of the speaker. Also, a good feature extraction technique should mimic the human speech perception. We don't hear loudness on a linear scale. If we want to double the perceived loudness of a sound, we have to put 8 times as much energy into it. Instead of a linear scale, our perception system uses a log scale. \n",
    "\n",
    "Taking these things into account, Davis and Mermelstein came up with MFCC in the 1980's. MFCC mimics the logarithmic perception of loudness and pitch of human auditory system and tries to eliminate speaker dependent characteristics by excluding the fundamental frequency and their harmonics. The underlying mathematics is quite complicated and we will skip that. For those interested, here is the [detailed explanation](http://practicalcryptography.com/miscellaneous/machine-learning/guide-mel-frequency-cepstral-coefficients-mfccs/).\n",
    "\n",
    "![http://recognize-speech.com/images/FeatureExtraction/MFCC/MFCC_Flowchart.png](http://recognize-speech.com/images/FeatureExtraction/MFCC/MFCC_Flowchart.png)\n",
    "\n",
    "<a id=\"librosa_mfcc\"></a>\n",
    "#### Generating MFCC using Librosa\n",
    "The library librosa has a function to calculate MFCC. Let's compute the MFCC of an audio file and visualize it."
   ]
  },
  {
   "cell_type": "code",
   "execution_count": 14,
   "metadata": {
    "_cell_guid": "dcb2a6e7-b086-4d1a-94a4-215f2cb101d0",
    "_uuid": "2f8dfd08f109ababeaca9ce900b68b8a716d28b7"
   },
   "outputs": [],
   "source": [
    "import librosa\n",
    "SAMPLE_RATE = 44100\n",
    "fname = '../input/audio_train/' + '00044347.wav'   # Hi-hat\n",
    "wav, _ = librosa.core.load(fname, sr=SAMPLE_RATE)\n",
    "wav = wav[:2*44100]"
   ]
  },
  {
   "cell_type": "code",
   "execution_count": 15,
   "metadata": {
    "_cell_guid": "6250242e-e3c5-4cb9-8405-43d3279dada1",
    "_kg_hide-output": true,
    "_uuid": "7498089442d866816aabc85234a8a5546c5e58da"
   },
   "outputs": [
    {
     "data": {
      "text/plain": [
       "(40, 173)"
      ]
     },
     "execution_count": 15,
     "metadata": {},
     "output_type": "execute_result"
    }
   ],
   "source": [
    "mfcc = librosa.feature.mfcc(wav, sr = SAMPLE_RATE, n_mfcc=40)\n",
    "mfcc.shape"
   ]
  },
  {
   "cell_type": "code",
   "execution_count": 16,
   "metadata": {
    "_cell_guid": "d02be92a-f208-42c2-ac4a-e0b2b22ba195",
    "_uuid": "f4054a6856eaa16cf82cacb5bd08ea53cdab386b"
   },
   "outputs": [
    {
     "data": {
      "image/png": "[encoded data removed]",
      "text/plain": [
       "<matplotlib.figure.Figure at 0x7fd6a8083a20>"
      ]
     },
     "metadata": {},
     "output_type": "display_data"
    }
   ],
   "source": [
    "plt.imshow(mfcc, cmap='hot', interpolation='nearest');"
   ]
  },
  {
   "cell_type": "markdown",
   "metadata": {
    "_cell_guid": "5015b22f-5de8-4a86-aef4-074bf90023aa",
    "_uuid": "59502f44b22674250a047e89b610867d6c6306c3"
   },
   "source": [
    "<a id=\"2d_model_building\"></a>\n",
    "## <center>4. Building a Model using MFCC\n",
    "\n",
    "We will build now build a 2D Convolutional model using MFCC. "
   ]
  },
  {
   "cell_type": "code",
   "execution_count": 17,
   "metadata": {
    "_cell_guid": "384fe65d-fe10-4eee-826c-75c4dffcfa2d",
    "_kg_hide-output": true,
    "_uuid": "ed54039a4e0b91d10f603799feb8166404bbceec"
   },
   "outputs": [],
   "source": [
    "from keras.layers import (Convolution2D, GlobalAveragePooling2D, BatchNormalization, Flatten,\n",
    "                          GlobalMaxPool2D, MaxPool2D, concatenate, Activation)\n",
    "from keras.utils import Sequence, to_categorical\n",
    "from keras import backend as K"
   ]
  },
  {
   "cell_type": "code",
   "execution_count": 18,
   "metadata": {
    "_cell_guid": "97d07753-d78d-465d-936d-7f03eaf1def1",
    "_uuid": "0b2ac601f52ae4ed9dc849fcd095ab94cfe878fe"
   },
   "outputs": [],
   "source": [
    "def get_2d_dummy_model(config):\n",
    "    \n",
    "    nclass = config.n_classes\n",
    "    \n",
    "    inp = Input(shape=(config.dim[0],config.dim[1],1))\n",
    "    x = GlobalMaxPool2D()(inp)\n",
    "    out = Dense(nclass, activation=softmax)(x)\n",
    "\n",
    "    model = models.Model(inputs=inp, outputs=out)\n",
    "    opt = optimizers.Adam(config.learning_rate)\n",
    "\n",
    "    model.compile(optimizer=opt, loss=losses.categorical_crossentropy, metrics=['acc'])\n",
    "    return model\n",
    "\n",
    "\n",
    "def get_2d_conv_model(config):\n",
    "    \n",
    "    nclass = config.n_classes\n",
    "    \n",
    "    inp = Input(shape=(config.dim[0],config.dim[1],1))\n",
    "    x = Convolution2D(32, (4,10), padding=\"same\")(inp)\n",
    "    x = BatchNormalization()(x)\n",
    "    x = Activation(\"relu\")(x)\n",
    "    x = MaxPool2D()(x)\n",
    "    \n",
    "    x = Convolution2D(32, (4,10), padding=\"same\")(x)\n",
    "    x = BatchNormalization()(x)\n",
    "    x = Activation(\"relu\")(x)\n",
    "    x = MaxPool2D()(x)\n",
    "    \n",
    "    x = Convolution2D(32, (4,10), padding=\"same\")(x)\n",
    "    x = BatchNormalization()(x)\n",
    "    x = Activation(\"relu\")(x)\n",
    "    x = MaxPool2D()(x)\n",
    "    \n",
    "    x = Convolution2D(32, (4,10), padding=\"same\")(x)\n",
    "    x = BatchNormalization()(x)\n",
    "    x = Activation(\"relu\")(x)\n",
    "    x = MaxPool2D()(x)\n",
    "\n",
    "    x = Flatten()(x)\n",
    "    x = Dense(64)(x)\n",
    "    x = BatchNormalization()(x)\n",
    "    x = Activation(\"relu\")(x)\n",
    "    out = Dense(nclass, activation=softmax)(x)\n",
    "\n",
    "    model = models.Model(inputs=inp, outputs=out)\n",
    "    opt = optimizers.Adam(config.learning_rate)\n",
    "\n",
    "    model.compile(optimizer=opt, loss=losses.categorical_crossentropy, metrics=['acc'])\n",
    "    return model\n",
    "def get_big_2d_conv_model(config):\n",
    "    \n",
    "    nclass = config.n_classes\n",
    "    \n",
    "    inp = Input(shape=(config.dim[0],config.dim[1],1))\n",
    "    x = Convolution2D(64, (4,10), padding=\"same\")(inp)\n",
    "    x = BatchNormalization()(x)\n",
    "    x = Activation(\"relu\")(x)\n",
    "    x = MaxPool2D()(x)\n",
    "    \n",
    "    x = Convolution2D(64, (4,10), padding=\"same\")(x)\n",
    "    x = BatchNormalization()(x)\n",
    "    x = Activation(\"relu\")(x)\n",
    "    x = MaxPool2D()(x)\n",
    "    \n",
    "    x = Convolution2D(64, (4,10), padding=\"same\")(x)\n",
    "    x = BatchNormalization()(x)\n",
    "    x = Activation(\"relu\")(x)\n",
    "    x = MaxPool2D()(x)\n",
    "    \n",
    "    x = Convolution2D(64, (4,10), padding=\"same\")(x)\n",
    "    x = BatchNormalization()(x)\n",
    "    x = Activation(\"relu\")(x)\n",
    "    x = MaxPool2D()(x)\n",
    "\n",
    "    x = Flatten()(x)\n",
    "    x = Dense(128)(x)\n",
    "    x = BatchNormalization()(x)\n",
    "    x = Activation(\"relu\")(x)\n",
    "    out = Dense(nclass, activation=softmax)(x)\n",
    "\n",
    "    model = models.Model(inputs=inp, outputs=out)\n",
    "    opt = optimizers.Adam(config.learning_rate)\n",
    "\n",
    "    model.compile(optimizer=opt, loss=losses.categorical_crossentropy, metrics=['acc'])\n",
    "    return model"
   ]
  },
  {
   "cell_type": "markdown",
   "metadata": {
    "_cell_guid": "c0c823de-9971-4247-9501-dc74d2f95d8e",
    "_uuid": "d88e90fdc36c77c10ecc8f674d6fd39c8e4d78fb"
   },
   "source": [
    "<a id=\"2d_data\"></a>\n",
    "### Preparing data"
   ]
  },
  {
   "cell_type": "code",
   "execution_count": 19,
   "metadata": {
    "_cell_guid": "eb5aef7d-669b-4cde-9e09-a2bfaa379cc9",
    "_uuid": "70b8cd145ae3838c7974fe257403c8c7fbc8552a"
   },
   "outputs": [],
   "source": [
    "config = Config(sampling_rate=44100, audio_duration=2, n_folds=10, \n",
    "                learning_rate=0.001, use_mfcc=True, n_mfcc=40)\n",
    "#config = Config(sampling_rate=44100, audio_duration=2, n_folds=5, \n",
    "#                learning_rate=0.001, use_mfcc=True, n_mfcc=40, datagen_num=3)\n",
    "if not COMPLETE_RUN:\n",
    "    config = Config(sampling_rate=44100, audio_duration=2, n_folds=2, \n",
    "                    max_epochs=1, use_mfcc=True, n_mfcc=40)"
   ]
  },
  {
   "cell_type": "code",
   "execution_count": 21,
   "metadata": {
    "_cell_guid": "c9910de1-388b-470e-8908-6df548f1b866",
    "_uuid": "bb3bc487b52a549a856807dd838a4f6cd209917d",
    "scrolled": true
   },
   "outputs": [],
   "source": [
    "\n",
    "\n",
    "verified_only = False\n",
    "semi_only = False\n",
    "\n",
    "x_train = np.load('../input/mfcc/train_mfcc.npy')\n",
    "#x_pitch = np.load('../input/mfcc/train_mfcc_stretch=1.2.npy')\n",
    "#x_pitch = np.load('../input/mfcc/train_mfcc_noise.npy')\n",
    "#X_train = np.concatenate((x_train, x_pitch), axis = 0)\n",
    "X_train = x_train\n",
    "\n",
    "X_test = np.load('../input/mfcc/test_mfcc.npy')\n",
    "\n",
    "y_train = np.load('../input/mfcc/label.npy')\n",
    "#y_pitch = np.load('../input/mfcc/label_noise.npy')\n",
    "#y = np.concatenate((y_train, y_pitch), axis = 0)\n",
    "y = y_train\n",
    "\n",
    "y_train = to_categorical(y, num_classes=config.n_classes)\n"
   ]
  },
  {
   "cell_type": "markdown",
   "metadata": {
    "_cell_guid": "a0e0b17b-d2f8-47f8-9b4d-fff3b2761dde",
    "_uuid": "89e8bd3dc6d1f432309e668685fb98d1ce866e95"
   },
   "source": [
    "<a id=\"2d_normalization\"></a>\n",
    "#### Normalization\n"
   ]
  },
  {
   "cell_type": "code",
   "execution_count": 22,
   "metadata": {
    "_cell_guid": "928b0993-7799-4b75-bef8-c1df3755632e",
    "_uuid": "60b6d9dfcb25eb9b3cef7e05675d67b104e24b31",
    "scrolled": true
   },
   "outputs": [],
   "source": [
    "\n",
    "mean = np.mean(X_train, axis=0)\n",
    "std = np.std(X_train, axis=0)\n",
    "\n",
    "X_train = (X_train - mean)/std\n",
    "X_test = (X_test - mean)/std\n"
   ]
  },
  {
   "cell_type": "markdown",
   "metadata": {
    "_cell_guid": "af8afd09-66bf-4618-ad95-d70db35b90ec",
    "_uuid": "b70fea949114595111c39f9f64fb1752603e3fdf"
   },
   "source": [
    "<a id=\"2d_training\"></a>\n",
    "#### Training 2D Conv on MFCC"
   ]
  },
  {
   "cell_type": "code",
   "execution_count": null,
   "metadata": {
    "_cell_guid": "10fb7477-8122-49fb-be81-1adb7aa45c7f",
    "_uuid": "ab0f2bc7e7bbaced3eb2e4c3acb7c7c63aa73681",
    "scrolled": true
   },
   "outputs": [
    {
     "name": "stdout",
     "output_type": "stream",
     "text": [
      "##################################################\n",
      "Fold:  0\n",
      "Train on 34096 samples, validate on 3796 samples\n",
      "Epoch 1/50\n",
      "34096/34096 [==============================] - 34s 983us/step - loss: 2.2562 - acc: 0.3860 - val_loss: 1.9751 - val_acc: 0.4460\n",
      "\n",
      "Epoch 00001: val_loss improved from inf to 1.97513, saving model to model/best_0.h5\n",
      "Epoch 2/50\n",
      "34096/34096 [==============================] - 32s 933us/step - loss: 1.5448 - acc: 0.5659 - val_loss: 1.6966 - val_acc: 0.5287\n",
      "\n",
      "Epoch 00002: val_loss improved from 1.97513 to 1.69657, saving model to model/best_0.h5\n",
      "Epoch 3/50\n",
      "34096/34096 [==============================] - 32s 934us/step - loss: 1.2529 - acc: 0.6434 - val_loss: 1.5802 - val_acc: 0.5656\n",
      "\n",
      "Epoch 00003: val_loss improved from 1.69657 to 1.58022, saving model to model/best_0.h5\n",
      "Epoch 4/50\n",
      "34096/34096 [==============================] - 32s 934us/step - loss: 1.0578 - acc: 0.6983 - val_loss: 1.2051 - val_acc: 0.6649\n",
      "\n",
      "Epoch 00004: val_loss improved from 1.58022 to 1.20507, saving model to model/best_0.h5\n",
      "Epoch 5/50\n",
      "34096/34096 [==============================] - 32s 934us/step - loss: 0.9051 - acc: 0.7389 - val_loss: 1.2681 - val_acc: 0.6401\n",
      "\n",
      "Epoch 00005: val_loss did not improve from 1.20507\n",
      "Epoch 6/50\n",
      "34096/34096 [==============================] - 32s 935us/step - loss: 0.7767 - acc: 0.7748 - val_loss: 1.2409 - val_acc: 0.6583\n",
      "\n",
      "Epoch 00006: val_loss did not improve from 1.20507\n",
      "Epoch 7/50\n",
      "34096/34096 [==============================] - 32s 935us/step - loss: 0.6700 - acc: 0.8067 - val_loss: 1.0713 - val_acc: 0.6949\n",
      "\n",
      "Epoch 00007: val_loss improved from 1.20507 to 1.07132, saving model to model/best_0.h5\n",
      "Epoch 8/50\n",
      "34096/34096 [==============================] - 32s 938us/step - loss: 0.5681 - acc: 0.8333 - val_loss: 1.2323 - val_acc: 0.6728\n",
      "\n",
      "Epoch 00008: val_loss did not improve from 1.07132\n",
      "Epoch 9/50\n",
      "34096/34096 [==============================] - 32s 940us/step - loss: 0.4849 - acc: 0.8582 - val_loss: 1.1568 - val_acc: 0.6926\n",
      "\n",
      "Epoch 00009: val_loss did not improve from 1.07132\n",
      "Epoch 10/50\n",
      "34096/34096 [==============================] - 32s 937us/step - loss: 0.4129 - acc: 0.8787 - val_loss: 1.1545 - val_acc: 0.7021\n",
      "\n",
      "Epoch 00010: val_loss did not improve from 1.07132\n",
      "Epoch 11/50\n",
      "34096/34096 [==============================] - 32s 933us/step - loss: 0.3427 - acc: 0.8985 - val_loss: 1.2181 - val_acc: 0.7028\n",
      "\n",
      "Epoch 00011: val_loss did not improve from 1.07132\n",
      "Epoch 12/50\n",
      "34096/34096 [==============================] - 32s 928us/step - loss: 0.2922 - acc: 0.9127 - val_loss: 1.2522 - val_acc: 0.7013\n",
      "\n",
      "Epoch 00012: val_loss did not improve from 1.07132\n",
      "37892/37892 [==============================] - 15s 392us/step\n",
      "9400/9400 [==============================] - 4s 394us/step\n",
      "##################################################\n",
      "Fold:  1\n",
      "Train on 34096 samples, validate on 3796 samples\n",
      "Epoch 1/50\n",
      "34096/34096 [==============================] - 32s 946us/step - loss: 2.2338 - acc: 0.3901 - val_loss: 2.0200 - val_acc: 0.4323\n",
      "\n",
      "Epoch 00001: val_loss improved from inf to 2.01996, saving model to model/best_1.h5\n",
      "Epoch 2/50\n",
      "34096/34096 [==============================] - 32s 932us/step - loss: 1.5453 - acc: 0.5673 - val_loss: 1.5080 - val_acc: 0.5782\n",
      "\n",
      "Epoch 00002: val_loss improved from 2.01996 to 1.50803, saving model to model/best_1.h5\n",
      "Epoch 3/50\n",
      "34096/34096 [==============================] - 32s 931us/step - loss: 1.2686 - acc: 0.6414 - val_loss: 1.3916 - val_acc: 0.6185\n",
      "\n",
      "Epoch 00003: val_loss improved from 1.50803 to 1.39156, saving model to model/best_1.h5\n",
      "Epoch 4/50\n",
      "34096/34096 [==============================] - 32s 931us/step - loss: 1.0697 - acc: 0.6961 - val_loss: 1.2879 - val_acc: 0.6359\n",
      "\n",
      "Epoch 00004: val_loss improved from 1.39156 to 1.28791, saving model to model/best_1.h5\n",
      "Epoch 5/50\n",
      "34096/34096 [==============================] - 32s 931us/step - loss: 0.9186 - acc: 0.7367 - val_loss: 1.1850 - val_acc: 0.6726\n",
      "\n",
      "Epoch 00005: val_loss improved from 1.28791 to 1.18499, saving model to model/best_1.h5\n",
      "Epoch 6/50\n",
      "34096/34096 [==============================] - 32s 940us/step - loss: 0.7969 - acc: 0.7682 - val_loss: 1.1269 - val_acc: 0.6876\n",
      "\n",
      "Epoch 00006: val_loss improved from 1.18499 to 1.12690, saving model to model/best_1.h5\n",
      "Epoch 7/50\n",
      "34096/34096 [==============================] - 32s 936us/step - loss: 0.6802 - acc: 0.8012 - val_loss: 1.1277 - val_acc: 0.6928\n",
      "\n",
      "Epoch 00007: val_loss did not improve from 1.12690\n",
      "Epoch 8/50\n",
      "34096/34096 [==============================] - 32s 933us/step - loss: 0.5908 - acc: 0.8270 - val_loss: 1.2054 - val_acc: 0.6884\n",
      "\n",
      "Epoch 00008: val_loss did not improve from 1.12690\n",
      "Epoch 9/50\n",
      "34096/34096 [==============================] - 32s 932us/step - loss: 0.5023 - acc: 0.8534 - val_loss: 1.1694 - val_acc: 0.6910\n",
      "\n",
      "Epoch 00009: val_loss did not improve from 1.12690\n",
      "Epoch 10/50\n",
      "34096/34096 [==============================] - 32s 932us/step - loss: 0.4347 - acc: 0.8713 - val_loss: 1.0822 - val_acc: 0.7215\n",
      "\n",
      "Epoch 00010: val_loss improved from 1.12690 to 1.08215, saving model to model/best_1.h5\n",
      "Epoch 11/50\n",
      "34096/34096 [==============================] - 32s 931us/step - loss: 0.3643 - acc: 0.8918 - val_loss: 1.1849 - val_acc: 0.7007\n",
      "\n",
      "Epoch 00011: val_loss did not improve from 1.08215\n",
      "Epoch 12/50\n",
      "34096/34096 [==============================] - 32s 932us/step - loss: 0.3084 - acc: 0.9103 - val_loss: 1.1660 - val_acc: 0.7171\n",
      "\n",
      "Epoch 00012: val_loss did not improve from 1.08215\n",
      "Epoch 13/50\n",
      "34096/34096 [==============================] - 32s 936us/step - loss: 0.2611 - acc: 0.9237 - val_loss: 1.2539 - val_acc: 0.7068\n",
      "\n",
      "Epoch 00013: val_loss did not improve from 1.08215\n",
      "Epoch 14/50\n",
      "34096/34096 [==============================] - 32s 937us/step - loss: 0.2214 - acc: 0.9328 - val_loss: 1.3300 - val_acc: 0.6981\n",
      "\n",
      "Epoch 00014: val_loss did not improve from 1.08215\n",
      "Epoch 15/50\n",
      "34096/34096 [==============================] - 32s 938us/step - loss: 0.1936 - acc: 0.9415 - val_loss: 1.3016 - val_acc: 0.7134\n",
      "\n",
      "Epoch 00015: val_loss did not improve from 1.08215\n",
      "37892/37892 [==============================] - 15s 389us/step\n",
      "9400/9400 [==============================] - 4s 409us/step\n",
      "##################################################\n",
      "Fold:  2\n",
      "Train on 34098 samples, validate on 3794 samples\n",
      "Epoch 1/50\n",
      "34098/34098 [==============================] - 33s 954us/step - loss: 2.2346 - acc: 0.3892 - val_loss: 1.9470 - val_acc: 0.4460\n",
      "\n",
      "Epoch 00001: val_loss improved from inf to 1.94702, saving model to model/best_2.h5\n",
      "Epoch 2/50\n",
      "34098/34098 [==============================] - 32s 932us/step - loss: 1.5407 - acc: 0.5665 - val_loss: 1.5177 - val_acc: 0.5662\n",
      "\n",
      "Epoch 00002: val_loss improved from 1.94702 to 1.51768, saving model to model/best_2.h5\n",
      "Epoch 3/50\n",
      "34098/34098 [==============================] - 32s 940us/step - loss: 1.2681 - acc: 0.6406 - val_loss: 1.3891 - val_acc: 0.6120\n",
      "\n",
      "Epoch 00003: val_loss improved from 1.51768 to 1.38912, saving model to model/best_2.h5\n",
      "Epoch 4/50\n",
      "34098/34098 [==============================] - 32s 936us/step - loss: 1.0770 - acc: 0.6937 - val_loss: 1.1590 - val_acc: 0.6621\n",
      "\n",
      "Epoch 00004: val_loss improved from 1.38912 to 1.15902, saving model to model/best_2.h5\n",
      "Epoch 5/50\n",
      "34098/34098 [==============================] - 32s 935us/step - loss: 0.9279 - acc: 0.7336 - val_loss: 1.1302 - val_acc: 0.6829\n",
      "\n",
      "Epoch 00005: val_loss improved from 1.15902 to 1.13024, saving model to model/best_2.h5\n",
      "Epoch 6/50\n",
      "34098/34098 [==============================] - 32s 938us/step - loss: 0.7902 - acc: 0.7743 - val_loss: 1.0681 - val_acc: 0.6982\n",
      "\n",
      "Epoch 00006: val_loss improved from 1.13024 to 1.06805, saving model to model/best_2.h5\n",
      "Epoch 7/50\n",
      "34098/34098 [==============================] - 32s 930us/step - loss: 0.6943 - acc: 0.8007 - val_loss: 1.0986 - val_acc: 0.6945\n",
      "\n",
      "Epoch 00007: val_loss did not improve from 1.06805\n",
      "Epoch 8/50\n",
      "34098/34098 [==============================] - 32s 931us/step - loss: 0.5868 - acc: 0.8306 - val_loss: 1.0388 - val_acc: 0.7103\n",
      "\n",
      "Epoch 00008: val_loss improved from 1.06805 to 1.03878, saving model to model/best_2.h5\n",
      "Epoch 9/50\n",
      "34098/34098 [==============================] - 32s 933us/step - loss: 0.5127 - acc: 0.8488 - val_loss: 1.0926 - val_acc: 0.7035\n",
      "\n",
      "Epoch 00009: val_loss did not improve from 1.03878\n",
      "Epoch 10/50\n",
      "34098/34098 [==============================] - 32s 932us/step - loss: 0.4316 - acc: 0.8735 - val_loss: 1.2458 - val_acc: 0.6911\n",
      "\n",
      "Epoch 00010: val_loss did not improve from 1.03878\n",
      "Epoch 11/50\n",
      "34098/34098 [==============================] - 32s 933us/step - loss: 0.3721 - acc: 0.8881 - val_loss: 1.1108 - val_acc: 0.7167\n",
      "\n",
      "Epoch 00011: val_loss did not improve from 1.03878\n",
      "Epoch 12/50\n",
      "34098/34098 [==============================] - 32s 935us/step - loss: 0.3141 - acc: 0.9073 - val_loss: 1.1511 - val_acc: 0.7151\n",
      "\n",
      "Epoch 00012: val_loss did not improve from 1.03878\n",
      "Epoch 13/50\n",
      "34098/34098 [==============================] - 32s 937us/step - loss: 0.2558 - acc: 0.9247 - val_loss: 1.2062 - val_acc: 0.7008\n",
      "\n",
      "Epoch 00013: val_loss did not improve from 1.03878\n",
      "37892/37892 [==============================] - 17s 438us/step\n",
      "9400/9400 [==============================] - 4s 436us/step\n",
      "##################################################\n",
      "Fold:  3\n",
      "Train on 34098 samples, validate on 3794 samples\n",
      "Epoch 1/50\n",
      "34098/34098 [==============================] - 32s 952us/step - loss: 2.2321 - acc: 0.3900 - val_loss: 1.8672 - val_acc: 0.4636\n",
      "\n",
      "Epoch 00001: val_loss improved from inf to 1.86720, saving model to model/best_3.h5\n",
      "Epoch 2/50\n",
      "34098/34098 [==============================] - 32s 933us/step - loss: 1.5124 - acc: 0.5764 - val_loss: 1.4584 - val_acc: 0.5938\n",
      "\n",
      "Epoch 00002: val_loss improved from 1.86720 to 1.45840, saving model to model/best_3.h5\n",
      "Epoch 3/50\n",
      "34098/34098 [==============================] - 32s 936us/step - loss: 1.2308 - acc: 0.6503 - val_loss: 1.3521 - val_acc: 0.6120\n",
      "\n",
      "Epoch 00003: val_loss improved from 1.45840 to 1.35212, saving model to model/best_3.h5\n",
      "Epoch 4/50\n",
      "34098/34098 [==============================] - 32s 932us/step - loss: 1.0441 - acc: 0.7010 - val_loss: 1.2421 - val_acc: 0.6407\n",
      "\n",
      "Epoch 00004: val_loss improved from 1.35212 to 1.24212, saving model to model/best_3.h5\n",
      "Epoch 5/50\n",
      "34098/34098 [==============================] - 32s 933us/step - loss: 0.8937 - acc: 0.7436 - val_loss: 1.1723 - val_acc: 0.6576\n",
      "\n",
      "Epoch 00005: val_loss improved from 1.24212 to 1.17228, saving model to model/best_3.h5\n",
      "Epoch 6/50\n",
      "34098/34098 [==============================] - 32s 932us/step - loss: 0.7624 - acc: 0.7780 - val_loss: 1.1974 - val_acc: 0.6574\n",
      "\n",
      "Epoch 00006: val_loss did not improve from 1.17228\n",
      "Epoch 7/50\n",
      "34098/34098 [==============================] - 32s 933us/step - loss: 0.6625 - acc: 0.8079 - val_loss: 1.1351 - val_acc: 0.6850\n",
      "\n",
      "Epoch 00007: val_loss improved from 1.17228 to 1.13510, saving model to model/best_3.h5\n",
      "Epoch 8/50\n",
      "34098/34098 [==============================] - 32s 936us/step - loss: 0.5667 - acc: 0.8341 - val_loss: 1.0711 - val_acc: 0.6972\n",
      "\n",
      "Epoch 00008: val_loss improved from 1.13510 to 1.07109, saving model to model/best_3.h5\n",
      "Epoch 9/50\n",
      "34098/34098 [==============================] - 32s 935us/step - loss: 0.4727 - acc: 0.8610 - val_loss: 1.1806 - val_acc: 0.6795\n",
      "\n",
      "Epoch 00009: val_loss did not improve from 1.07109\n",
      "Epoch 10/50\n",
      "34098/34098 [==============================] - 32s 931us/step - loss: 0.4031 - acc: 0.8827 - val_loss: 1.0841 - val_acc: 0.7174\n",
      "\n",
      "Epoch 00010: val_loss did not improve from 1.07109\n",
      "Epoch 11/50\n",
      "34098/34098 [==============================] - 32s 933us/step - loss: 0.3324 - acc: 0.9015 - val_loss: 1.1517 - val_acc: 0.6977\n",
      "\n",
      "Epoch 00011: val_loss did not improve from 1.07109\n",
      "Epoch 12/50\n",
      "34098/34098 [==============================] - 32s 938us/step - loss: 0.2785 - acc: 0.9177 - val_loss: 1.1998 - val_acc: 0.7040\n",
      "\n",
      "Epoch 00012: val_loss did not improve from 1.07109\n",
      "Epoch 13/50\n",
      "34098/34098 [==============================] - 32s 937us/step - loss: 0.2341 - acc: 0.9297 - val_loss: 1.1354 - val_acc: 0.7248\n",
      "\n",
      "Epoch 00013: val_loss did not improve from 1.07109\n",
      "37892/37892 [==============================] - 16s 430us/step\n",
      "9400/9400 [==============================] - 4s 404us/step\n",
      "##################################################\n",
      "Fold:  4\n",
      "Train on 34101 samples, validate on 3791 samples\n",
      "Epoch 1/50\n",
      "34101/34101 [==============================] - 33s 966us/step - loss: 2.2418 - acc: 0.3835 - val_loss: 1.8358 - val_acc: 0.4796\n",
      "\n",
      "Epoch 00001: val_loss improved from inf to 1.83582, saving model to model/best_4.h5\n",
      "Epoch 2/50\n",
      "34101/34101 [==============================] - 32s 932us/step - loss: 1.5287 - acc: 0.5710 - val_loss: 1.6371 - val_acc: 0.5429\n",
      "\n",
      "Epoch 00002: val_loss improved from 1.83582 to 1.63707, saving model to model/best_4.h5\n",
      "Epoch 3/50\n",
      "34101/34101 [==============================] - 32s 937us/step - loss: 1.2407 - acc: 0.6482 - val_loss: 1.3561 - val_acc: 0.6209\n",
      "\n",
      "Epoch 00003: val_loss improved from 1.63707 to 1.35612, saving model to model/best_4.h5\n",
      "Epoch 4/50\n",
      "34101/34101 [==============================] - 32s 936us/step - loss: 1.0566 - acc: 0.6994 - val_loss: 1.1958 - val_acc: 0.6613\n",
      "\n",
      "Epoch 00004: val_loss improved from 1.35612 to 1.19584, saving model to model/best_4.h5\n",
      "Epoch 5/50\n",
      "34101/34101 [==============================] - 32s 933us/step - loss: 0.8995 - acc: 0.7416 - val_loss: 1.2183 - val_acc: 0.6544\n",
      "\n",
      "Epoch 00005: val_loss did not improve from 1.19584\n",
      "Epoch 6/50\n",
      "34101/34101 [==============================] - 32s 932us/step - loss: 0.7716 - acc: 0.7758 - val_loss: 1.1797 - val_acc: 0.6729\n",
      "\n",
      "Epoch 00006: val_loss improved from 1.19584 to 1.17966, saving model to model/best_4.h5\n",
      "Epoch 7/50\n",
      "34101/34101 [==============================] - 32s 932us/step - loss: 0.6707 - acc: 0.8039 - val_loss: 1.1985 - val_acc: 0.6769\n",
      "\n",
      "Epoch 00007: val_loss did not improve from 1.17966\n",
      "Epoch 8/50\n",
      "34101/34101 [==============================] - 32s 930us/step - loss: 0.5708 - acc: 0.8320 - val_loss: 1.1579 - val_acc: 0.6982\n",
      "\n",
      "Epoch 00008: val_loss improved from 1.17966 to 1.15789, saving model to model/best_4.h5\n",
      "Epoch 9/50\n",
      "34101/34101 [==============================] - 32s 929us/step - loss: 0.4825 - acc: 0.8589 - val_loss: 1.2443 - val_acc: 0.6882\n",
      "\n",
      "Epoch 00009: val_loss did not improve from 1.15789\n",
      "Epoch 10/50\n",
      "34101/34101 [==============================] - 32s 935us/step - loss: 0.4169 - acc: 0.8761 - val_loss: 1.1595 - val_acc: 0.7035\n",
      "\n",
      "Epoch 00010: val_loss did not improve from 1.15789\n",
      "Epoch 11/50\n",
      "34101/34101 [==============================] - 32s 932us/step - loss: 0.3441 - acc: 0.8993 - val_loss: 1.1536 - val_acc: 0.7170\n",
      "\n",
      "Epoch 00011: val_loss improved from 1.15789 to 1.15356, saving model to model/best_4.h5\n",
      "Epoch 12/50\n",
      "34101/34101 [==============================] - 32s 934us/step - loss: 0.2907 - acc: 0.9135 - val_loss: 1.1011 - val_acc: 0.7254\n",
      "\n",
      "Epoch 00012: val_loss improved from 1.15356 to 1.10106, saving model to model/best_4.h5\n",
      "Epoch 13/50\n",
      "34101/34101 [==============================] - 32s 936us/step - loss: 0.2399 - acc: 0.9289 - val_loss: 1.4654 - val_acc: 0.6618\n",
      "\n",
      "Epoch 00013: val_loss did not improve from 1.10106\n",
      "Epoch 14/50\n",
      "34101/34101 [==============================] - 32s 930us/step - loss: 0.2014 - acc: 0.9396 - val_loss: 1.2829 - val_acc: 0.7172\n",
      "\n",
      "Epoch 00014: val_loss did not improve from 1.10106\n",
      "Epoch 15/50\n",
      "34101/34101 [==============================] - 32s 931us/step - loss: 0.1689 - acc: 0.9480 - val_loss: 1.4122 - val_acc: 0.7056\n",
      "\n",
      "Epoch 00015: val_loss did not improve from 1.10106\n",
      "Epoch 16/50\n",
      "34101/34101 [==============================] - 32s 940us/step - loss: 0.1496 - acc: 0.9539 - val_loss: 1.4010 - val_acc: 0.7046\n",
      "\n",
      "Epoch 00016: val_loss did not improve from 1.10106\n",
      "Epoch 17/50\n",
      "34101/34101 [==============================] - 32s 943us/step - loss: 0.1263 - acc: 0.9617 - val_loss: 1.4194 - val_acc: 0.7230\n",
      "\n",
      "Epoch 00017: val_loss did not improve from 1.10106\n",
      "37892/37892 [==============================] - 16s 410us/step\n",
      "9400/9400 [==============================] - 4s 391us/step\n",
      "##################################################\n",
      "Fold:  5\n",
      "Train on 34101 samples, validate on 3791 samples\n",
      "Epoch 1/50\n",
      "34101/34101 [==============================] - 32s 950us/step - loss: 2.2421 - acc: 0.3857 - val_loss: 1.8838 - val_acc: 0.4798\n",
      "\n",
      "Epoch 00001: val_loss improved from inf to 1.88384, saving model to model/best_5.h5\n",
      "Epoch 2/50\n",
      "34101/34101 [==============================] - 32s 931us/step - loss: 1.5492 - acc: 0.5648 - val_loss: 1.5177 - val_acc: 0.5708\n",
      "\n",
      "Epoch 00002: val_loss improved from 1.88384 to 1.51771, saving model to model/best_5.h5\n",
      "Epoch 3/50\n"
     ]
    },
    {
     "name": "stdout",
     "output_type": "stream",
     "text": [
      "34101/34101 [==============================] - 32s 934us/step - loss: 1.2763 - acc: 0.6382 - val_loss: 1.3641 - val_acc: 0.6159\n",
      "\n",
      "Epoch 00003: val_loss improved from 1.51771 to 1.36408, saving model to model/best_5.h5\n",
      "Epoch 4/50\n",
      "34101/34101 [==============================] - 32s 929us/step - loss: 1.0872 - acc: 0.6885 - val_loss: 1.2823 - val_acc: 0.6468\n",
      "\n",
      "Epoch 00004: val_loss improved from 1.36408 to 1.28234, saving model to model/best_5.h5\n",
      "Epoch 5/50\n",
      "34101/34101 [==============================] - 32s 937us/step - loss: 0.9303 - acc: 0.7357 - val_loss: 1.2223 - val_acc: 0.6526\n",
      "\n",
      "Epoch 00005: val_loss improved from 1.28234 to 1.22232, saving model to model/best_5.h5\n",
      "Epoch 6/50\n",
      "34101/34101 [==============================] - 32s 935us/step - loss: 0.8074 - acc: 0.7662 - val_loss: 1.2253 - val_acc: 0.6595\n",
      "\n",
      "Epoch 00006: val_loss did not improve from 1.22232\n",
      "Epoch 7/50\n",
      "34101/34101 [==============================] - 32s 927us/step - loss: 0.6931 - acc: 0.7992 - val_loss: 1.0251 - val_acc: 0.7104\n",
      "\n",
      "Epoch 00007: val_loss improved from 1.22232 to 1.02514, saving model to model/best_5.h5\n",
      "Epoch 8/50\n",
      "34101/34101 [==============================] - 32s 934us/step - loss: 0.5954 - acc: 0.8239 - val_loss: 1.0295 - val_acc: 0.7151\n",
      "\n",
      "Epoch 00008: val_loss did not improve from 1.02514\n",
      "Epoch 9/50\n",
      "34101/34101 [==============================] - 32s 931us/step - loss: 0.5127 - acc: 0.8497 - val_loss: 1.1556 - val_acc: 0.7046\n",
      "\n",
      "Epoch 00009: val_loss did not improve from 1.02514\n",
      "Epoch 10/50\n",
      "34101/34101 [==============================] - 32s 935us/step - loss: 0.4401 - acc: 0.8687 - val_loss: 1.0730 - val_acc: 0.7185\n",
      "\n",
      "Epoch 00010: val_loss did not improve from 1.02514\n",
      "Epoch 11/50\n",
      "34101/34101 [==============================] - 32s 931us/step - loss: 0.3688 - acc: 0.8896 - val_loss: 1.1436 - val_acc: 0.7130\n",
      "\n",
      "Epoch 00011: val_loss did not improve from 1.02514\n",
      "Epoch 12/50\n",
      "34101/34101 [==============================] - 32s 933us/step - loss: 0.3183 - acc: 0.9055 - val_loss: 1.1490 - val_acc: 0.7225\n",
      "\n",
      "Epoch 00012: val_loss did not improve from 1.02514\n",
      "37892/37892 [==============================] - 16s 434us/step\n",
      "9400/9400 [==============================] - 4s 423us/step\n",
      "##################################################\n",
      "Fold:  6\n",
      "Train on 34108 samples, validate on 3784 samples\n",
      "Epoch 1/50\n",
      "34108/34108 [==============================] - 33s 961us/step - loss: 2.2434 - acc: 0.3866 - val_loss: 2.0123 - val_acc: 0.4353\n",
      "\n",
      "Epoch 00001: val_loss improved from inf to 2.01227, saving model to model/best_6.h5\n",
      "Epoch 2/50\n",
      "34108/34108 [==============================] - 32s 932us/step - loss: 1.5487 - acc: 0.5658 - val_loss: 1.5992 - val_acc: 0.5529\n",
      "\n",
      "Epoch 00002: val_loss improved from 2.01227 to 1.59919, saving model to model/best_6.h5\n",
      "Epoch 3/50\n",
      "34108/34108 [==============================] - 32s 933us/step - loss: 1.2574 - acc: 0.6464 - val_loss: 1.4008 - val_acc: 0.6044\n",
      "\n",
      "Epoch 00003: val_loss improved from 1.59919 to 1.40080, saving model to model/best_6.h5\n",
      "Epoch 4/50\n",
      "34108/34108 [==============================] - 32s 933us/step - loss: 1.0606 - acc: 0.7003 - val_loss: 1.2529 - val_acc: 0.6469\n",
      "\n",
      "Epoch 00004: val_loss improved from 1.40080 to 1.25290, saving model to model/best_6.h5\n",
      "Epoch 5/50\n",
      "34108/34108 [==============================] - 32s 931us/step - loss: 0.9127 - acc: 0.7390 - val_loss: 1.2955 - val_acc: 0.6329\n",
      "\n",
      "Epoch 00005: val_loss did not improve from 1.25290\n",
      "Epoch 6/50\n",
      "34108/34108 [==============================] - 32s 933us/step - loss: 0.7835 - acc: 0.7743 - val_loss: 1.1499 - val_acc: 0.6678\n",
      "\n",
      "Epoch 00006: val_loss improved from 1.25290 to 1.14990, saving model to model/best_6.h5\n",
      "Epoch 7/50\n",
      "34108/34108 [==============================] - 32s 932us/step - loss: 0.6761 - acc: 0.8032 - val_loss: 1.1639 - val_acc: 0.6823\n",
      "\n",
      "Epoch 00007: val_loss did not improve from 1.14990\n",
      "Epoch 8/50\n",
      "34108/34108 [==============================] - 32s 934us/step - loss: 0.5729 - acc: 0.8326 - val_loss: 1.1619 - val_acc: 0.6958\n",
      "\n",
      "Epoch 00008: val_loss did not improve from 1.14990\n",
      "Epoch 9/50\n",
      "34108/34108 [==============================] - 32s 935us/step - loss: 0.4938 - acc: 0.8550 - val_loss: 1.1646 - val_acc: 0.6987\n",
      "\n",
      "Epoch 00009: val_loss did not improve from 1.14990\n",
      "Epoch 10/50\n",
      "34108/34108 [==============================] - 32s 941us/step - loss: 0.4218 - acc: 0.8757 - val_loss: 1.0953 - val_acc: 0.7143\n",
      "\n",
      "Epoch 00010: val_loss improved from 1.14990 to 1.09532, saving model to model/best_6.h5\n",
      "Epoch 11/50\n",
      "34108/34108 [==============================] - 32s 933us/step - loss: 0.3476 - acc: 0.8986 - val_loss: 1.1580 - val_acc: 0.7043\n",
      "\n",
      "Epoch 00011: val_loss did not improve from 1.09532\n",
      "Epoch 12/50\n",
      "34108/34108 [==============================] - 32s 934us/step - loss: 0.2945 - acc: 0.9132 - val_loss: 1.3854 - val_acc: 0.6697\n",
      "\n",
      "Epoch 00012: val_loss did not improve from 1.09532\n",
      "Epoch 13/50\n",
      "34108/34108 [==============================] - 32s 933us/step - loss: 0.2492 - acc: 0.9256 - val_loss: 1.2746 - val_acc: 0.6995\n",
      "\n",
      "Epoch 00013: val_loss did not improve from 1.09532\n",
      "Epoch 14/50\n",
      "34108/34108 [==============================] - 32s 931us/step - loss: 0.2066 - acc: 0.9380 - val_loss: 1.3282 - val_acc: 0.6871\n",
      "\n",
      "Epoch 00014: val_loss did not improve from 1.09532\n",
      "Epoch 15/50\n",
      "34108/34108 [==============================] - 32s 934us/step - loss: 0.1587 - acc: 0.9527 - val_loss: 1.3615 - val_acc: 0.7016\n",
      "\n",
      "Epoch 00015: val_loss did not improve from 1.09532\n",
      "37892/37892 [==============================] - 15s 392us/step\n",
      "9400/9400 [==============================] - 4s 390us/step\n",
      "##################################################\n",
      "Fold:  7\n",
      "Train on 34108 samples, validate on 3784 samples\n",
      "Epoch 1/50\n",
      "34108/34108 [==============================] - 32s 952us/step - loss: 2.2270 - acc: 0.3902 - val_loss: 1.9655 - val_acc: 0.4585\n",
      "\n",
      "Epoch 00001: val_loss improved from inf to 1.96554, saving model to model/best_7.h5\n",
      "Epoch 2/50\n",
      "34108/34108 [==============================] - 32s 935us/step - loss: 1.5436 - acc: 0.5656 - val_loss: 1.5208 - val_acc: 0.5743\n",
      "\n",
      "Epoch 00002: val_loss improved from 1.96554 to 1.52077, saving model to model/best_7.h5\n",
      "Epoch 3/50\n",
      "34108/34108 [==============================] - 32s 936us/step - loss: 1.2629 - acc: 0.6398 - val_loss: 1.3891 - val_acc: 0.6086\n",
      "\n",
      "Epoch 00003: val_loss improved from 1.52077 to 1.38914, saving model to model/best_7.h5\n",
      "Epoch 4/50\n",
      "34108/34108 [==============================] - 32s 934us/step - loss: 1.0765 - acc: 0.6930 - val_loss: 1.2232 - val_acc: 0.6517\n",
      "\n",
      "Epoch 00004: val_loss improved from 1.38914 to 1.22319, saving model to model/best_7.h5\n",
      "Epoch 5/50\n",
      "34108/34108 [==============================] - 32s 933us/step - loss: 0.9224 - acc: 0.7353 - val_loss: 1.4335 - val_acc: 0.6031\n",
      "\n",
      "Epoch 00005: val_loss did not improve from 1.22319\n",
      "Epoch 6/50\n",
      " 4096/34108 [==>...........................] - ETA: 26s - loss: 0.7521 - acc: 0.7834"
     ]
    }
   ],
   "source": [
    "#```python\n",
    "if(verified_only):\n",
    "    PREDICTION_FOLDER = \"predictions_2d_conv_verified_only\"\n",
    "elif(semi_only):\n",
    "    PREDICTION_FOLDER = \"predictions_2d_conv_data_stretch=1.2\"\n",
    "else:\n",
    "    PREDICTION_FOLDER = \"predictions_2d_conv_BIG_data_noise\"\n",
    "    \n",
    "if not os.path.exists(PREDICTION_FOLDER):\n",
    "    os.mkdir(PREDICTION_FOLDER)\n",
    "if os.path.exists('logs/' + PREDICTION_FOLDER):\n",
    "    shutil.rmtree('logs/' + PREDICTION_FOLDER)\n",
    "\n",
    "#skf = StratifiedKFold(train.label_idx, n_folds=config.n_folds)\n",
    "skf = StratifiedKFold(n_splits=config.n_folds, shuffle = True).split(X_train, y)\n",
    "for i, (train_split, val_split) in enumerate(skf):\n",
    "    K.clear_session()\n",
    "    X, y, X_val, y_val = X_train[train_split], y_train[train_split], X_train[val_split], y_train[val_split]\n",
    "    checkpoint = ModelCheckpoint('model/best_%d.h5'%i, monitor='val_loss', verbose=1, save_best_only=True)\n",
    "    early = EarlyStopping(monitor=\"val_loss\", mode=\"min\", patience=5)\n",
    "    tb = TensorBoard(log_dir='./logs/' + PREDICTION_FOLDER + '/fold_%i'%i, write_graph=True)\n",
    "    callbacks_list = [checkpoint, early, tb]\n",
    "    print(\"#\"*50)\n",
    "    print(\"Fold: \", i)\n",
    "    model = get_2d_conv_model(config)\n",
    "    history = model.fit(X, y, validation_data=(X_val, y_val), callbacks=callbacks_list, batch_size=64, epochs=config.max_epochs)\n",
    "    \n",
    "    \n",
    "    \n",
    " \n",
    "   \n",
    "    model.load_weights('model/best_%d.h5'%i)\n",
    "\n",
    "    # Save train predictions\n",
    "    predictions = model.predict(X_train, batch_size=64, verbose=1)\n",
    "    np.save(PREDICTION_FOLDER + \"/train_predictions_%d.npy\"%i, predictions)\n",
    "\n",
    "    # Save test predictions\n",
    "    predictions = model.predict(X_test, batch_size=64, verbose=1)\n",
    "    np.save(PREDICTION_FOLDER + \"/test_predictions_%d.npy\"%i, predictions)\n",
    "\n",
    "    # Make a submission file\n",
    "    top_3 = np.array(LABELS)[np.argsort(-predictions, axis=1)[:, :3]]\n",
    "    predicted_labels = [' '.join(list(x)) for x in top_3]\n",
    "    test['label'] = predicted_labels\n",
    "    test[['label']].to_csv(PREDICTION_FOLDER + \"/predictions_%d.csv\"%i)\n",
    "#```"
   ]
  },
  {
   "cell_type": "markdown",
   "metadata": {
    "_cell_guid": "4bd794b7-c09e-42d6-8f8a-158758921273",
    "_uuid": "b4421687f65fd8068c04fcdfdb419bf4f08c5f2c"
   },
   "source": [
    "<a id=\"2d_ensembling\"></a>\n",
    "#### Ensembling 2D Conv Predictions"
   ]
  },
  {
   "cell_type": "code",
   "execution_count": null,
   "metadata": {
    "_cell_guid": "8c253178-6cde-4bad-835d-d09484f381ed",
    "_uuid": "e6868eb538b9fed874fcb02183d2edd348d38b5f",
    "scrolled": true
   },
   "outputs": [],
   "source": [
    "pred_list = []\n",
    "for i in range(config.n_folds):\n",
    "    pred_list.append(np.load(PREDICTION_FOLDER + \"/test_predictions_%d.npy\"%i))\n",
    "    #print(pred_list[i])\n",
    "prediction = np.ones_like(pred_list[0])\n",
    "for pred in pred_list:\n",
    "    prediction = prediction*pred\n",
    "prediction = prediction**(1./len(pred_list))\n",
    "# Make a submission file\n",
    "top_3 = np.array(LABELS)[np.argsort(-prediction, axis=1)[:, :3]]\n",
    "predicted_labels = [' '.join(list(x)) for x in top_3]\n",
    "test = pd.read_csv('../input/sample_submission.csv')\n",
    "test['label'] = predicted_labels\n",
    "test[['fname', 'label']].to_csv(PREDICTION_FOLDER + \"/2d_conv_ensembled_submission.csv\", index=False)"
   ]
  },
  {
   "cell_type": "markdown",
   "metadata": {},
   "source": [
    "#### nonVerified data"
   ]
  },
  {
   "cell_type": "markdown",
   "metadata": {
    "_cell_guid": "b67760f2-f8cd-498a-b340-4910d8c443d3",
    "_uuid": "38feef2350dfa3c099bd6fb2e1a0b921716606a8"
   },
   "source": [
    "<a id=\"1d_2d_ensembling\"></a>\n",
    "## <center>5. Ensembling 1D Conv and 2D Conv Predictions</center>"
   ]
  },
  {
   "cell_type": "code",
   "execution_count": null,
   "metadata": {
    "_cell_guid": "12566257-72a5-4aa3-9e11-763c98489810",
    "_uuid": "448e8f9034d9d43a4642b1f441965b272425ba63"
   },
   "outputs": [],
   "source": [
    "pred_list = []\n",
    "for i in range(10):\n",
    "    pred_list.append(np.load(\"../input/freesound-prediction-data-2d-conv-reduced-lr/test_predictions_%d.npy\"%i))\n",
    "for i in range(10):\n",
    "    pred_list.append(np.load(\"../input/freesound-prediction-file/test_predictions_%d.npy\"%i))\n",
    "prediction = np.ones_like(pred_list[0])\n",
    "for pred in pred_list:\n",
    "    prediction = prediction*pred\n",
    "prediction = prediction**(1./len(pred_list))\n",
    "# Make a submission file\n",
    "top_3 = np.array(LABELS)[np.argsort(-prediction, axis=1)[:, :3]]\n",
    "predicted_labels = [' '.join(list(x)) for x in top_3]\n",
    "test = pd.read_csv('../input/freesound-audio-tagging/sample_submission.csv')\n",
    "test['label'] = predicted_labels\n",
    "test[['fname', 'label']].to_csv(\"1d_2d_ensembled_submission.csv\", index=False)"
   ]
  },
  {
   "cell_type": "markdown",
   "metadata": {
    "_cell_guid": "34e4b1a5-49ac-49ff-a9cd-9b341d784e9b",
    "_uuid": "836b4a9008b4a239f3c41d8f3997bd49fa3c2280"
   },
   "source": [
    "<a id=\"conclusion\"></a>\n",
    "## <center>Results and Conclusion</center>"
   ]
  },
  {
   "cell_type": "markdown",
   "metadata": {
    "_cell_guid": "1f6bb71f-f461-414c-90d1-725c03f368ff",
    "_uuid": "01cfbfa163adb3da8b7b7da3310fb9e38ce0d478",
    "collapsed": true
   },
   "source": [
    "So far, we have trained two models. Let's analyze their relative complexity and strength.\n",
    "\n",
    "\n",
    "\n",
    "| Model        | Number of Trainable parameters           | Public LB score  |\n",
    "| ------------- |:-------------:| -----:|\n",
    "| 1D Conv on Raw wave      | 360,513 | 0.809 |\n",
    "| 2D Conv on MFCC (verified labels only)    | 168,361  |   0.785 |\n",
    "| 2D Conv on MFCC     | 168,361  |   0.844 |\n",
    "| 1D Conv + 2D Conv Ensemble     | N/A  |   0.895 |\n",
    "\n",
    "**As we can see, 2D Convolution on MFCC performs better than 1D Convolution on Raw waves.**"
   ]
  },
  {
   "cell_type": "markdown",
   "metadata": {
    "_cell_guid": "78397951-3d15-45c1-bc29-17c853d7adf5",
    "_uuid": "b8db90dc506d23d6241c606ca03fd1762f38f36f"
   },
   "source": [
    "## Coming Soon\n",
    "\n",
    "1. Data Augmentation\n",
    "2. Training on Manually Verified Labels"
   ]
  },
  {
   "cell_type": "code",
   "execution_count": null,
   "metadata": {},
   "outputs": [],
   "source": []
  }
 ],
 "metadata": {
  "kernelspec": {
   "display_name": "Python 3",
   "language": "python",
   "name": "python3"
  },
  "language_info": {
   "codemirror_mode": {
    "name": "ipython",
    "version": 3
   },
   "file_extension": ".py",
   "mimetype": "text/x-python",
   "name": "python",
   "nbconvert_exporter": "python",
   "pygments_lexer": "ipython3",
   "version": "3.5.4"
  }
 },
 "nbformat": 4,
 "nbformat_minor": 1
}
